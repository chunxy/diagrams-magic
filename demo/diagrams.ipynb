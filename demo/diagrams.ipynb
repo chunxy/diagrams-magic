{
 "cells": [
  {
   "cell_type": "markdown",
   "id": "15b5b35b-4857-4478-b58c-c0e524a19ce9",
   "metadata": {},
   "source": [
    "# Diagrams magic demo"
   ]
  },
  {
   "cell_type": "markdown",
   "id": "23ce99d7-d07f-43e7-a6b8-87a59225fbf8",
   "metadata": {},
   "source": [
    "- Load the external extension"
   ]
  },
  {
   "cell_type": "code",
   "execution_count": 1,
   "id": "a0c55092-d4b2-4a4e-b849-e0eb500df852",
   "metadata": {},
   "outputs": [],
   "source": [
    "%load_ext diagrams-magic"
   ]
  },
  {
   "cell_type": "markdown",
   "id": "7fef8fec-c019-433a-a9a4-cc1bb05e33af",
   "metadata": {},
   "source": [
    "- This is a cell magic. The first line should indicate the magic name, in this case '%%diagrams'\n",
    "- There are four drivers supported by diagrams, indicate the driver name after '%%diagrams'\n",
    "- In the body of the cell, put the corresponding graph description of different drivers"
   ]
  },
  {
   "cell_type": "code",
   "execution_count": 2,
   "id": "468f553d-f528-457c-900c-f28e24a12bfe",
   "metadata": {},
   "outputs": [
    {
     "data": {
      "image/svg+xml": "<svg xmlns=\"http://www.w3.org/2000/svg\" class=\"railroad-diagram\" width=\"521\" height=\"110\" viewBox=\"0 0 521 110\"> \n\t<defs>\n\t\t<style type=\"text/css\"><![CDATA[\n\t\t\tsvg.railroad-diagram {\n                stroke: rgba(0, 122, 209, 0.95);\n\t\t\t}\n\t\t\tsvg.railroad-diagram path {\n\t\t\t\tstroke-width: 2;\n\t\t\t\tstroke: rgba(0, 122, 209, 0.95);\n\t\t\t\tfill: rgba(0,0,0,0);\n\t\t\t}\n\t\t\tsvg.railroad-diagram text {\n\t\t\t\tfont: 14px monospace;\n\t\t\t\ttext-anchor: middle;\n                stroke: black;\n\t\t\t}\n\t\t\tsvg.railroad-diagram text.label {\n\t\t\t\ttext-anchor: start;\n\t\t\t}\n\t\t\tsvg.railroad-diagram text.comment {\n\t\t\t\tfont: italic 12px monospace;\n\t\t\t}\n\t\t\tsvg.railroad-diagram rect {\n\t\t\t\tstroke-width: 2;\n\t\t\t\tstroke: rgba(0, 122, 209, 0.95);\n\t\t\t\tfill: rgba(0,0,0,0);\n\t\t\t}\n\t\t]]></style>\n\t</defs>\n\n<g transform=\"translate(.5 .5)\">\n<path d=\"M 20 31 v 20 m 10 -20 v 20 m -10 -10 h 20.5\"/>\n<g>\n<path d=\"M40 41h0\"/>\n<path d=\"M108 41h0\"/>\n<path d=\"M40 41h20\"/>\n<g>\n<path d=\"M60 41h28\"/>\n</g>\n<path d=\"M88 41h20\"/>\n<path d=\"M40 41a10 10 0 0 1 10 10v0a10 10 0 0 0 10 10\"/>\n<g>\n<path d=\"M60 61h0\"/>\n<path d=\"M88 61h0\"/>\n<rect x=\"60\" y=\"50\" width=\"28\" height=\"22\" rx=\"10\" ry=\"10\"/>\n<text x=\"74\" y=\"65\">+</text>\n</g>\n<path d=\"M88 61a10 10 0 0 0 10 -10v0a10 10 0 0 1 10 -10\"/>\n</g>\n<g>\n<path d=\"M108 41h0\"/>\n<path d=\"M288 41h0\"/>\n<path d=\"M108 41h20\"/>\n<g>\n<path d=\"M128 41h0\"/>\n<path d=\"M268 41h0\"/>\n<rect x=\"128\" y=\"30\" width=\"140\" height=\"22\"/>\n<text x=\"198\" y=\"45\">name-start char</text>\n</g>\n<path d=\"M268 41h20\"/>\n<path d=\"M108 41a10 10 0 0 1 10 10v10a10 10 0 0 0 10 10\"/>\n<g>\n<path d=\"M128 71h36\"/>\n<path d=\"M232 71h36\"/>\n<rect x=\"164\" y=\"60\" width=\"68\" height=\"22\"/>\n<text x=\"198\" y=\"75\">escape</text>\n</g>\n<path d=\"M268 71a10 10 0 0 0 10 -10v-10a10 10 0 0 1 10 -10\"/>\n</g>\n<g>\n<path d=\"M288 41h0\"/>\n<path d=\"M480 41h0\"/>\n<path d=\"M288 41a10 10 0 0 0 10 -10v0a10 10 0 0 1 10 -10\"/>\n<g>\n<path d=\"M308 21h152\"/>\n</g>\n<path d=\"M460 21a10 10 0 0 1 10 10v0a10 10 0 0 0 10 10\"/>\n<path d=\"M288 41h20\"/>\n<g>\n<path d=\"M308 41h0\"/>\n<path d=\"M460 41h0\"/>\n<path d=\"M308 41h10\"/>\n<g>\n<path d=\"M318 41h0\"/>\n<path d=\"M450 41h0\"/>\n<path d=\"M318 41h20\"/>\n<g>\n<path d=\"M338 41h0\"/>\n<path d=\"M430 41h0\"/>\n<rect x=\"338\" y=\"30\" width=\"92\" height=\"22\"/>\n<text x=\"384\" y=\"45\">name char</text>\n</g>\n<path d=\"M430 41h20\"/>\n<path d=\"M318 41a10 10 0 0 1 10 10v10a10 10 0 0 0 10 10\"/>\n<g>\n<path d=\"M338 71h12\"/>\n<path d=\"M418 71h12\"/>\n<rect x=\"350\" y=\"60\" width=\"68\" height=\"22\"/>\n<text x=\"384\" y=\"75\">escape</text>\n</g>\n<path d=\"M430 71a10 10 0 0 0 10 -10v-10a10 10 0 0 1 10 -10\"/>\n</g>\n<path d=\"M450 41h10\"/>\n<path d=\"M318 41a10 10 0 0 0 -10 10v29a10 10 0 0 0 10 10\"/>\n<g>\n<path d=\"M318 90h132\"/>\n</g>\n<path d=\"M450 90a10 10 0 0 0 10 -10v-29a10 10 0 0 0 -10 -10\"/>\n</g>\n<path d=\"M460 41h20\"/>\n</g>\n<path d=\"M 480 41 h 20 m -10 -10 v 20 m 10 -20 v 20\"/>\n</g>\n</svg>",
      "text/plain": [
       "<IPython.core.display.SVG object>"
      ]
     },
     "metadata": {},
     "output_type": "display_data"
    }
   ],
   "source": [
    "%%diagrams railroad railroad\n",
    "\n",
    "Diagram(\n",
    "    Optional(\"+\", \"skip\"),\n",
    "    Choice(0, NonTerminal(\"name-start char\"), NonTerminal(\"escape\")),\n",
    "    ZeroOrMore(Choice(0, NonTerminal(\"name char\"), NonTerminal(\"escape\"))),\n",
    ")"
   ]
  },
  {
   "cell_type": "code",
   "execution_count": 3,
   "id": "d9a53437-aa89-4301-b733-ea0c222d0acc",
   "metadata": {},
   "outputs": [
    {
     "data": {
      "image/svg+xml": "<svg xmlns=\"http://www.w3.org/2000/svg\" xmlns:xlink=\"http://www.w3.org/1999/xlink\" height=\"538.21875\" version=\"1.1\" width=\"372.71484375\" style=\"overflow: hidden; position: relative;\" viewBox=\"0 0 372.71484375 538.21875\" preserveAspectRatio=\"xMidYMid meet\"><desc style=\"-webkit-tap-highlight-color: rgba(0, 0, 0, 0);\">Created with Raphaël 2.1.4</desc><defs style=\"-webkit-tap-highlight-color: rgba(0, 0, 0, 0);\"><path stroke-linecap=\"round\" d=\"M5,0 0,2.5 5,5z\" id=\"raphael-marker-block\" style=\"-webkit-tap-highlight-color: rgba(0, 0, 0, 0);\"/><marker id=\"raphael-marker-endblock33-obj13\" markerHeight=\"3\" markerWidth=\"3\" orient=\"auto\" refX=\"1.5\" refY=\"1.5\" style=\"-webkit-tap-highlight-color: rgba(0, 0, 0, 0);\"><use xlink:href=\"#raphael-marker-block\" transform=\"rotate(180 1.5 1.5) scale(0.6,0.6)\" stroke-width=\"1.6667\" fill=\"black\" stroke=\"none\" style=\"-webkit-tap-highlight-color: rgba(0, 0, 0, 0);\"/></marker><marker id=\"raphael-marker-endblock33-obj14\" markerHeight=\"3\" markerWidth=\"3\" orient=\"auto\" refX=\"1.5\" refY=\"1.5\" style=\"-webkit-tap-highlight-color: rgba(0, 0, 0, 0);\"><use xlink:href=\"#raphael-marker-block\" transform=\"rotate(180 1.5 1.5) scale(0.6,0.6)\" stroke-width=\"1.6667\" fill=\"black\" stroke=\"none\" style=\"-webkit-tap-highlight-color: rgba(0, 0, 0, 0);\"/></marker><marker id=\"raphael-marker-endblock33-obj15\" markerHeight=\"3\" markerWidth=\"3\" orient=\"auto\" refX=\"1.5\" refY=\"1.5\" style=\"-webkit-tap-highlight-color: rgba(0, 0, 0, 0);\"><use xlink:href=\"#raphael-marker-block\" transform=\"rotate(180 1.5 1.5) scale(0.6,0.6)\" stroke-width=\"1.6667\" fill=\"black\" stroke=\"none\" style=\"-webkit-tap-highlight-color: rgba(0, 0, 0, 0);\"/></marker><marker id=\"raphael-marker-endblock33-obj17\" markerHeight=\"3\" markerWidth=\"3\" orient=\"auto\" refX=\"1.5\" refY=\"1.5\" style=\"-webkit-tap-highlight-color: rgba(0, 0, 0, 0);\"><use xlink:href=\"#raphael-marker-block\" transform=\"rotate(180 1.5 1.5) scale(0.6,0.6)\" stroke-width=\"1.6667\" fill=\"black\" stroke=\"none\" style=\"-webkit-tap-highlight-color: rgba(0, 0, 0, 0);\"/></marker><marker id=\"raphael-marker-endblock33-obj19\" markerHeight=\"3\" markerWidth=\"3\" orient=\"auto\" refX=\"1.5\" refY=\"1.5\" style=\"-webkit-tap-highlight-color: rgba(0, 0, 0, 0);\"><use xlink:href=\"#raphael-marker-block\" transform=\"rotate(180 1.5 1.5) scale(0.6,0.6)\" stroke-width=\"1.6667\" fill=\"black\" stroke=\"none\" style=\"-webkit-tap-highlight-color: rgba(0, 0, 0, 0);\"/></marker><marker id=\"raphael-marker-endblock33-obj20\" markerHeight=\"3\" markerWidth=\"3\" orient=\"auto\" refX=\"1.5\" refY=\"1.5\" style=\"-webkit-tap-highlight-color: rgba(0, 0, 0, 0);\"><use xlink:href=\"#raphael-marker-block\" transform=\"rotate(180 1.5 1.5) scale(0.6,0.6)\" stroke-width=\"1.6667\" fill=\"black\" stroke=\"none\" style=\"-webkit-tap-highlight-color: rgba(0, 0, 0, 0);\"/></marker></defs><rect x=\"0\" y=\"0\" width=\"51\" height=\"35.328125\" rx=\"20\" ry=\"20\" fill=\"#ffffff\" stroke=\"#000000\" style=\"-webkit-tap-highlight-color: rgba(0, 0, 0, 0);\" stroke-width=\"3\" class=\"flowchart\" id=\"st\" transform=\"matrix(1,0,0,1,61.9063,27.4297)\"/><text x=\"10\" y=\"17.6640625\" text-anchor=\"start\" font-family=\"&quot;Arial&quot;\" font-size=\"14px\" stroke=\"none\" fill=\"#000000\" style=\"-webkit-tap-highlight-color: rgba(0, 0, 0, 0); text-anchor: start; font-family: Arial; font-size: 14px;\" id=\"stt\" class=\"flowchartt\" transform=\"matrix(1,0,0,1,61.9063,27.4297)\" stroke-width=\"1\"><tspan dy=\"4.34375\" style=\"-webkit-tap-highlight-color: rgba(0, 0, 0, 0);\">Start</tspan></text><rect x=\"0\" y=\"0\" width=\"104.234375\" height=\"35.328125\" rx=\"0\" ry=\"0\" fill=\"#ffffff\" stroke=\"#000000\" style=\"-webkit-tap-highlight-color: rgba(0, 0, 0, 0);\" stroke-width=\"3\" class=\"flowchart\" id=\"op1\" transform=\"matrix(1,0,0,1,35.2891,140.1875)\"/><text x=\"10\" y=\"17.6640625\" text-anchor=\"start\" font-family=\"&quot;Arial&quot;\" font-size=\"14px\" stroke=\"none\" fill=\"#000000\" style=\"-webkit-tap-highlight-color: rgba(0, 0, 0, 0); text-anchor: start; font-family: Arial; font-size: 14px;\" id=\"op1t\" class=\"flowchartt\" transform=\"matrix(1,0,0,1,35.2891,140.1875)\" stroke-width=\"1\"><tspan dy=\"4.34375\" style=\"-webkit-tap-highlight-color: rgba(0, 0, 0, 0);\">My Operation</tspan></text><a xlink:href=\"http://www.google.com\" style=\"-webkit-tap-highlight-color: rgba(0, 0, 0, 0);\"><path fill=\"#ffffff\" stroke=\"#000000\" d=\"M27.333984375,19.546875L0,39.09375L54.66796875,78.1875L109.3359375,39.09375L54.66796875,0L0,39.09375\" stroke-width=\"3\" id=\"cond\" class=\"flowchart\" style=\"-webkit-tap-highlight-color: rgba(0, 0, 0, 0);\" transform=\"matrix(1,0,0,1,32.7383,231.5156)\"/></a><a xlink:href=\"http://www.google.com\" style=\"-webkit-tap-highlight-color: rgba(0, 0, 0, 0);\"><text x=\"32.333984375\" y=\"39.09375\" text-anchor=\"start\" font-family=\"&quot;Arial&quot;\" font-size=\"14px\" stroke=\"none\" fill=\"#000000\" style=\"-webkit-tap-highlight-color: rgba(0, 0, 0, 0); text-anchor: start; font-family: Arial; font-size: 14px;\" id=\"condt\" class=\"flowchartt\" transform=\"matrix(1,0,0,1,32.7383,231.5156)\" stroke-width=\"1\"><tspan dy=\"-4.0625\" style=\"-webkit-tap-highlight-color: rgba(0, 0, 0, 0);\">Yes</tspan><tspan dy=\"16.8\" x=\"32.333984375\" style=\"-webkit-tap-highlight-color: rgba(0, 0, 0, 0);\">or No?</tspan></text></a><path fill=\"#ffffff\" stroke=\"#000000\" d=\"M10,17.6640625L0,35.328125L142.8125,35.328125L162.8125,0L20,0L10,17.6640625\" stroke-width=\"3\" id=\"io\" class=\"flowchart\" style=\"-webkit-tap-highlight-color: rgba(0, 0, 0, 0);\" transform=\"matrix(1,0,0,1,6,387.1328)\"/><text x=\"30\" y=\"17.6640625\" text-anchor=\"start\" font-family=\"&quot;Arial&quot;\" font-size=\"14px\" stroke=\"none\" fill=\"#000000\" style=\"-webkit-tap-highlight-color: rgba(0, 0, 0, 0); text-anchor: start; font-family: Arial; font-size: 14px;\" id=\"iot\" class=\"flowchartt\" transform=\"matrix(1,0,0,1,6,387.1328)\" stroke-width=\"1\"><tspan dy=\"4.34375\" style=\"-webkit-tap-highlight-color: rgba(0, 0, 0, 0);\">catch something</tspan></text><rect x=\"0\" y=\"0\" width=\"45.109375\" height=\"35.328125\" rx=\"20\" ry=\"20\" fill=\"#ffffff\" stroke=\"#000000\" style=\"-webkit-tap-highlight-color: rgba(0, 0, 0, 0);\" stroke-width=\"3\" class=\"flowchart\" id=\"e\" transform=\"matrix(1,0,0,1,64.8516,499.8906)\"/><text x=\"10\" y=\"17.6640625\" text-anchor=\"start\" font-family=\"&quot;Arial&quot;\" font-size=\"14px\" stroke=\"none\" fill=\"#000000\" style=\"-webkit-tap-highlight-color: rgba(0, 0, 0, 0); text-anchor: start; font-family: Arial; font-size: 14px;\" id=\"et\" class=\"flowchartt\" transform=\"matrix(1,0,0,1,64.8516,499.8906)\" stroke-width=\"1\"><tspan dy=\"4.34375\" style=\"-webkit-tap-highlight-color: rgba(0, 0, 0, 0);\">End</tspan></text><rect x=\"0\" y=\"0\" width=\"130.46875\" height=\"35.328125\" rx=\"0\" ry=\"0\" fill=\"#ffffff\" stroke=\"#000000\" style=\"-webkit-tap-highlight-color: rgba(0, 0, 0, 0);\" stroke-width=\"3\" class=\"flowchart\" id=\"sub1\" transform=\"matrix(1,0,0,1,214.2461,252.9453)\"/><rect x=\"10\" y=\"0\" width=\"110.46875\" height=\"35.328125\" rx=\"0\" ry=\"0\" fill=\"#ffffff\" stroke=\"#000000\" style=\"-webkit-tap-highlight-color: rgba(0, 0, 0, 0);\" stroke-width=\"3\" id=\"sub1i\" transform=\"matrix(1,0,0,1,214.2461,252.9453)\"/><text x=\"20\" y=\"17.6640625\" text-anchor=\"start\" font-family=\"&quot;Arial&quot;\" font-size=\"14px\" stroke=\"none\" fill=\"#000000\" style=\"-webkit-tap-highlight-color: rgba(0, 0, 0, 0); text-anchor: start; font-family: Arial; font-size: 14px;\" id=\"sub1t\" class=\"flowchartt\" transform=\"matrix(1,0,0,1,214.2461,252.9453)\" stroke-width=\"1\"><tspan dy=\"4.34375\" style=\"-webkit-tap-highlight-color: rgba(0, 0, 0, 0);\">My Subroutine</tspan></text><path fill=\"none\" stroke=\"#000000\" d=\"M87.40625,62.7578125C87.40625,62.7578125,87.40625,119.1644820868969,87.40625,135.6898735674331\" stroke-width=\"3\" marker-end=\"url(#raphael-marker-endblock33-obj13)\" style=\"-webkit-tap-highlight-color: rgba(0, 0, 0, 0);\"/><path fill=\"none\" stroke=\"#000000\" d=\"M87.40625,175.515625C87.40625,175.515625,87.40625,213.71639585494995,87.40625,227.01578531763516\" stroke-width=\"3\" marker-end=\"url(#raphael-marker-endblock33-obj14)\" style=\"-webkit-tap-highlight-color: rgba(0, 0, 0, 0);\"/><path fill=\"none\" stroke=\"#000000\" d=\"M87.40625,309.703125C87.40625,309.703125,87.40625,366.1097945868969,87.40625,382.6351860674331\" stroke-width=\"3\" marker-end=\"url(#raphael-marker-endblock33-obj15)\" style=\"-webkit-tap-highlight-color: rgba(0, 0, 0, 0);\"/><text x=\"92.40625\" y=\"319.703125\" text-anchor=\"start\" font-family=\"&quot;Arial&quot;\" font-size=\"14px\" stroke=\"none\" fill=\"#000000\" style=\"-webkit-tap-highlight-color: rgba(0, 0, 0, 0); text-anchor: start; font-family: Arial; font-size: 14px;\" stroke-width=\"1\"><tspan dy=\"4.3359375\" style=\"-webkit-tap-highlight-color: rgba(0, 0, 0, 0);\">yes</tspan></text><path fill=\"none\" stroke=\"#000000\" d=\"M142.07421875,270.609375C142.07421875,270.609375,193.96111092995852,270.609375,209.7450629944674,270.609375\" stroke-width=\"3\" marker-end=\"url(#raphael-marker-endblock33-obj17)\" style=\"-webkit-tap-highlight-color: rgba(0, 0, 0, 0);\"/><text x=\"147.07421875\" y=\"260.609375\" text-anchor=\"start\" font-family=\"&quot;Arial&quot;\" font-size=\"14px\" stroke=\"none\" fill=\"#000000\" style=\"-webkit-tap-highlight-color: rgba(0, 0, 0, 0); text-anchor: start; font-family: Arial; font-size: 14px;\" stroke-width=\"1\"><tspan dy=\"4.3359375\" style=\"-webkit-tap-highlight-color: rgba(0, 0, 0, 0);\">no</tspan></text><path fill=\"none\" stroke=\"#000000\" d=\"M87.40625,422.4609375C87.40625,422.4609375,87.40625,478.8676070868969,87.40625,495.3929985674331\" stroke-width=\"3\" marker-end=\"url(#raphael-marker-endblock33-obj19)\" style=\"-webkit-tap-highlight-color: rgba(0, 0, 0, 0);\"/><path fill=\"none\" stroke=\"#000000\" d=\"M344.71484375,270.609375C344.71484375,270.609375,369.71484375,270.609375,369.71484375,270.609375C369.71484375,270.609375,369.71484375,115.1875,369.71484375,115.1875C369.71484375,115.1875,87.40625,115.1875,87.40625,115.1875C87.40625,115.1875,87.40625,128.49147129058838,87.40625,135.6891276333481\" stroke-width=\"3\" marker-end=\"url(#raphael-marker-endblock33-obj20)\" style=\"-webkit-tap-highlight-color: rgba(0, 0, 0, 0);\"/></svg>",
      "text/plain": [
       "<IPython.core.display.SVG object>"
      ]
     },
     "metadata": {},
     "output_type": "display_data"
    }
   ],
   "source": [
    "%%diagrams flowchart flowchart\n",
    "\n",
    "st=>start: Start\n",
    "e=>end\n",
    "op1=>operation: My Operation\n",
    "sub1=>subroutine: My Subroutine\n",
    "cond=>condition: Yes\n",
    "or No?:>http://www.google.com\n",
    "io=>inputoutput: catch something\n",
    "st->op1->cond\n",
    "cond(yes)->io->e\n",
    "cond(no)->sub1(right)->op1"
   ]
  },
  {
   "cell_type": "code",
   "execution_count": 4,
   "id": "d5dc8bc5-af85-44b2-a922-a78479ecb6a1",
   "metadata": {},
   "outputs": [
    {
     "name": "stderr",
     "output_type": "stream",
     "text": [
      "(node:16195) V8: /home/sean/.local/lib/node_modules/diagrams/node_modules/viz.js/viz.js:33 Invalid asm.js: Function definition doesn't match use\n",
      "(Use `node --trace-warnings ...` to show where the warning was created)\n"
     ]
    },
    {
     "data": {
      "image/svg+xml": "<svg xmlns=\"http://www.w3.org/2000/svg\" xmlns:xlink=\"http://www.w3.org/1999/xlink\" width=\"316pt\" height=\"260pt\" viewBox=\"0.00 0.00 316.26 260.00\">\n<g id=\"graph0\" class=\"graph\" transform=\"scale(1 1) rotate(0) translate(4 256)\">\n<title>G</title>\n<polygon fill=\"#ffffff\" stroke=\"transparent\" points=\"-4,4 -4,-256 312.2641,-256 312.2641,4 -4,4\"/>\n<!-- main -->\n<g id=\"node1\" class=\"node\">\n<title>main</title>\n<ellipse fill=\"none\" stroke=\"#000000\" cx=\"162.7737\" cy=\"-234\" rx=\"30.1958\" ry=\"18\"/>\n<text text-anchor=\"middle\" x=\"162.7737\" y=\"-229.8\" font-family=\"Times,serif\" font-size=\"14.00\" fill=\"#000000\">main</text>\n</g>\n<!-- parse -->\n<g id=\"node2\" class=\"node\">\n<title>parse</title>\n<ellipse fill=\"none\" stroke=\"#000000\" cx=\"117.7737\" cy=\"-162\" rx=\"31.3179\" ry=\"18\"/>\n<text text-anchor=\"middle\" x=\"117.7737\" y=\"-157.8\" font-family=\"Times,serif\" font-size=\"14.00\" fill=\"#000000\">parse</text>\n</g>\n<!-- main&#45;&gt;parse -->\n<g id=\"edge1\" class=\"edge\">\n<title>main-&gt;parse</title>\n<path fill=\"none\" stroke=\"#000000\" d=\"M152.1093,-216.937C146.6968,-208.277 140.0069,-197.5731 133.9741,-187.9207\"/>\n<polygon fill=\"#000000\" stroke=\"#000000\" points=\"136.9421,-186.0657 128.6741,-179.4407 131.0061,-189.7757 136.9421,-186.0657\"/>\n</g>\n<!-- init -->\n<g id=\"node4\" class=\"node\">\n<title>init</title>\n<ellipse fill=\"none\" stroke=\"#000000\" cx=\"58.7737\" cy=\"-90\" rx=\"27\" ry=\"18\"/>\n<text text-anchor=\"middle\" x=\"58.7737\" y=\"-85.8\" font-family=\"Times,serif\" font-size=\"14.00\" fill=\"#000000\">init</text>\n</g>\n<!-- main&#45;&gt;init -->\n<g id=\"edge3\" class=\"edge\">\n<title>main-&gt;init</title>\n<path fill=\"none\" stroke=\"#000000\" d=\"M136.8398,-224.0956C117.5726,-215.3876 92.2221,-200.83 77.7737,-180 65.2375,-161.9268 60.6909,-137.2489 59.1656,-118.305\"/>\n<polygon fill=\"#000000\" stroke=\"#000000\" points=\"62.6519,-117.9629 58.5881,-108.1784 55.6632,-118.3614 62.6519,-117.9629\"/>\n</g>\n<!-- cleanup -->\n<g id=\"node5\" class=\"node\">\n<title>cleanup</title>\n<ellipse fill=\"none\" stroke=\"#000000\" cx=\"207.7737\" cy=\"-162\" rx=\"41.1316\" ry=\"18\"/>\n<text text-anchor=\"middle\" x=\"207.7737\" y=\"-157.8\" font-family=\"Times,serif\" font-size=\"14.00\" fill=\"#000000\">cleanup</text>\n</g>\n<!-- main&#45;&gt;cleanup -->\n<g id=\"edge4\" class=\"edge\">\n<title>main-&gt;cleanup</title>\n<path fill=\"none\" stroke=\"#000000\" d=\"M173.4381,-216.937C178.8506,-208.277 185.5405,-197.5731 191.5732,-187.9207\"/>\n<polygon fill=\"#000000\" stroke=\"#000000\" points=\"194.5412,-189.7757 196.8733,-179.4407 188.6052,-186.0657 194.5412,-189.7757\"/>\n</g>\n<!-- printf -->\n<g id=\"node7\" class=\"node\">\n<title>printf</title>\n<ellipse fill=\"none\" stroke=\"#000000\" cx=\"275.7737\" cy=\"-18\" rx=\"32.4808\" ry=\"18\"/>\n<text text-anchor=\"middle\" x=\"275.7737\" y=\"-13.8\" font-family=\"Times,serif\" font-size=\"14.00\" fill=\"#000000\">printf</text>\n</g>\n<!-- main&#45;&gt;printf -->\n<g id=\"edge8\" class=\"edge\">\n<title>main-&gt;printf</title>\n<path fill=\"none\" stroke=\"#000000\" d=\"M190.0989,-226.117C212.1982,-218.2219 242.1241,-203.7675 257.7737,-180 284.3841,-139.586 283.4766,-80.8842 279.9399,-46.3558\"/>\n<polygon fill=\"#000000\" stroke=\"#000000\" points=\"283.3721,-45.5726 278.7307,-36.0486 276.4198,-46.3883 283.3721,-45.5726\"/>\n</g>\n<!-- execute -->\n<g id=\"node3\" class=\"node\">\n<title>execute</title>\n<ellipse fill=\"none\" stroke=\"#000000\" cx=\"162.7737\" cy=\"-90\" rx=\"40.548\" ry=\"18\"/>\n<text text-anchor=\"middle\" x=\"162.7737\" y=\"-85.8\" font-family=\"Times,serif\" font-size=\"14.00\" fill=\"#000000\">execute</text>\n</g>\n<!-- parse&#45;&gt;execute -->\n<g id=\"edge2\" class=\"edge\">\n<title>parse-&gt;execute</title>\n<path fill=\"none\" stroke=\"#000000\" d=\"M128.4381,-144.937C133.8506,-136.277 140.5405,-125.5731 146.5732,-115.9207\"/>\n<polygon fill=\"#000000\" stroke=\"#000000\" points=\"149.5412,-117.7757 151.8733,-107.4407 143.6052,-114.0657 149.5412,-117.7757\"/>\n</g>\n<!-- make_string -->\n<g id=\"node6\" class=\"node\">\n<title>make_string</title>\n<ellipse fill=\"none\" stroke=\"#000000\" cx=\"58.7737\" cy=\"-18\" rx=\"58.5482\" ry=\"18\"/>\n<text text-anchor=\"middle\" x=\"58.7737\" y=\"-13.8\" font-family=\"Times,serif\" font-size=\"14.00\" fill=\"#000000\">make_string</text>\n</g>\n<!-- execute&#45;&gt;make_string -->\n<g id=\"edge5\" class=\"edge\">\n<title>execute-&gt;make_string</title>\n<path fill=\"none\" stroke=\"#000000\" d=\"M140.718,-74.7307C126.3296,-64.7695 107.3013,-51.596 91.2029,-40.451\"/>\n<polygon fill=\"#000000\" stroke=\"#000000\" points=\"92.8231,-37.3158 82.6089,-34.5013 88.8386,-43.0711 92.8231,-37.3158\"/>\n</g>\n<!-- execute&#45;&gt;printf -->\n<g id=\"edge6\" class=\"edge\">\n<title>execute-&gt;printf</title>\n<path fill=\"none\" stroke=\"#000000\" d=\"M186.1874,-75.0816C203.4876,-64.0584 227.1779,-48.9637 245.8517,-37.0653\"/>\n<polygon fill=\"#000000\" stroke=\"#000000\" points=\"247.7484,-40.007 254.3011,-31.6816 243.9868,-34.1035 247.7484,-40.007\"/>\n</g>\n<!-- compare -->\n<g id=\"node8\" class=\"node\">\n<title>compare</title>\n<ellipse fill=\"none\" stroke=\"#000000\" cx=\"179.7737\" cy=\"-18\" rx=\"44.0622\" ry=\"18\"/>\n<text text-anchor=\"middle\" x=\"179.7737\" y=\"-13.8\" font-family=\"Times,serif\" font-size=\"14.00\" fill=\"#000000\">compare</text>\n</g>\n<!-- execute&#45;&gt;compare -->\n<g id=\"edge9\" class=\"edge\">\n<title>execute-&gt;compare</title>\n<path fill=\"none\" stroke=\"#000000\" d=\"M167.0635,-71.8314C168.8817,-64.131 171.0436,-54.9743 173.0642,-46.4166\"/>\n<polygon fill=\"#000000\" stroke=\"#000000\" points=\"176.5344,-46.95 175.4261,-36.4133 169.7218,-45.3414 176.5344,-46.95\"/>\n</g>\n<!-- init&#45;&gt;make_string -->\n<g id=\"edge7\" class=\"edge\">\n<title>init-&gt;make_string</title>\n<path fill=\"none\" stroke=\"#000000\" d=\"M58.7737,-71.8314C58.7737,-64.131 58.7737,-54.9743 58.7737,-46.4166\"/>\n<polygon fill=\"#000000\" stroke=\"#000000\" points=\"62.2738,-46.4132 58.7737,-36.4133 55.2738,-46.4133 62.2738,-46.4132\"/>\n</g>\n</g>\n</svg>",
      "text/plain": [
       "<IPython.core.display.SVG object>"
      ]
     },
     "metadata": {},
     "output_type": "display_data"
    }
   ],
   "source": [
    "%%diagrams dot\n",
    "digraph G {\n",
    "    main -> parse -> execute;\n",
    "    main -> init;\n",
    "    main -> cleanup;\n",
    "    execute -> make_string;\n",
    "    execute -> printf\n",
    "    init -> make_string;\n",
    "    main -> printf;\n",
    "    execute -> compare;\n",
    "}"
   ]
  },
  {
   "cell_type": "code",
   "execution_count": 5,
   "id": "83f1964b-9414-4df5-9152-b055474c940e",
   "metadata": {},
   "outputs": [
    {
     "data": {
      "image/svg+xml": "<svg xmlns=\"http://www.w3.org/2000/svg\" xmlns:xlink=\"http://www.w3.org/1999/xlink\" height=\"260\" version=\"1.1\" width=\"485.578125\" style=\"overflow: hidden; position: relative;\"><desc style=\"-webkit-tap-highlight-color: rgba(0, 0, 0, 0);\">Created with RaphaÃ«l 2.1.4</desc><defs style=\"-webkit-tap-highlight-color: rgba(0, 0, 0, 0);\"><path stroke-linecap=\"round\" d=\"M5,0 0,2.5 5,5z\" id=\"raphael-marker-block\" style=\"-webkit-tap-highlight-color: rgba(0, 0, 0, 0);\"/><marker id=\"raphael-marker-endblock55-obj21\" markerHeight=\"5\" markerWidth=\"5\" orient=\"auto\" refX=\"2.5\" refY=\"2.5\" style=\"-webkit-tap-highlight-color: rgba(0, 0, 0, 0);\"><use xlink:href=\"#raphael-marker-block\" transform=\"rotate(180 2.5 2.5) scale(1,1)\" stroke-width=\"1.0000\" fill=\"#000000\" stroke=\"none\" style=\"-webkit-tap-highlight-color: rgba(0, 0, 0, 0);\"/></marker><marker id=\"raphael-marker-endblock55-obj27\" markerHeight=\"5\" markerWidth=\"5\" orient=\"auto\" refX=\"2.5\" refY=\"2.5\" style=\"-webkit-tap-highlight-color: rgba(0, 0, 0, 0);\"><use xlink:href=\"#raphael-marker-block\" transform=\"rotate(180 2.5 2.5) scale(1,1)\" stroke-width=\"1.0000\" fill=\"#000000\" stroke=\"none\" style=\"-webkit-tap-highlight-color: rgba(0, 0, 0, 0);\"/></marker></defs><rect x=\"10\" y=\"20\" width=\"68.671875\" height=\"38\" rx=\"0\" ry=\"0\" fill=\"#ffffff\" stroke=\"#000000\" stroke-width=\"2\" style=\"-webkit-tap-highlight-color: rgba(0, 0, 0, 0);\"/><text x=\"20.3203125\" y=\"39\" text-anchor=\"start\" font-family=\"Andale Mono, monospace\" font-size=\"16px\" stroke=\"none\" fill=\"#000000\" style=\"-webkit-tap-highlight-color: rgba(0, 0, 0, 0); text-anchor: start; font-family: &quot;Andale Mono&quot;, monospace; font-size: 16px;\"><tspan dy=\"3.671875\" style=\"-webkit-tap-highlight-color: rgba(0, 0, 0, 0);\">Alice</tspan></text><rect x=\"10\" y=\"202\" width=\"68.671875\" height=\"38\" rx=\"0\" ry=\"0\" fill=\"#ffffff\" stroke=\"#000000\" stroke-width=\"2\" style=\"-webkit-tap-highlight-color: rgba(0, 0, 0, 0);\"/><text x=\"20.3203125\" y=\"221\" text-anchor=\"start\" font-family=\"Andale Mono, monospace\" font-size=\"16px\" stroke=\"none\" fill=\"#000000\" style=\"-webkit-tap-highlight-color: rgba(0, 0, 0, 0); text-anchor: start; font-family: &quot;Andale Mono&quot;, monospace; font-size: 16px;\"><tspan dy=\"3.671875\" style=\"-webkit-tap-highlight-color: rgba(0, 0, 0, 0);\">Alice</tspan></text><path fill=\"none\" stroke=\"#000000\" d=\"M44.3359375,58L44.3359375,202\" stroke-width=\"2\" style=\"-webkit-tap-highlight-color: rgba(0, 0, 0, 0);\"/><rect x=\"260.765625\" y=\"20\" width=\"48.796875\" height=\"38\" rx=\"0\" ry=\"0\" fill=\"#ffffff\" stroke=\"#000000\" stroke-width=\"2\" style=\"-webkit-tap-highlight-color: rgba(0, 0, 0, 0);\"/><text x=\"270.7578125\" y=\"39\" text-anchor=\"start\" font-family=\"Andale Mono, monospace\" font-size=\"16px\" stroke=\"none\" fill=\"#000000\" style=\"-webkit-tap-highlight-color: rgba(0, 0, 0, 0); text-anchor: start; font-family: &quot;Andale Mono&quot;, monospace; font-size: 16px;\"><tspan dy=\"3.671875\" style=\"-webkit-tap-highlight-color: rgba(0, 0, 0, 0);\">Bob</tspan></text><rect x=\"260.765625\" y=\"202\" width=\"48.796875\" height=\"38\" rx=\"0\" ry=\"0\" fill=\"#ffffff\" stroke=\"#000000\" stroke-width=\"2\" style=\"-webkit-tap-highlight-color: rgba(0, 0, 0, 0);\"/><text x=\"270.7578125\" y=\"221\" text-anchor=\"start\" font-family=\"Andale Mono, monospace\" font-size=\"16px\" stroke=\"none\" fill=\"#000000\" style=\"-webkit-tap-highlight-color: rgba(0, 0, 0, 0); text-anchor: start; font-family: &quot;Andale Mono&quot;, monospace; font-size: 16px;\"><tspan dy=\"3.671875\" style=\"-webkit-tap-highlight-color: rgba(0, 0, 0, 0);\">Bob</tspan></text><path fill=\"none\" stroke=\"#000000\" d=\"M285.1640625,58L285.1640625,202\" stroke-width=\"2\" style=\"-webkit-tap-highlight-color: rgba(0, 0, 0, 0);\"/><text x=\"54.328125\" y=\"83\" text-anchor=\"start\" font-family=\"Andale Mono, monospace\" font-size=\"16px\" stroke=\"none\" fill=\"#000000\" style=\"-webkit-tap-highlight-color: rgba(0, 0, 0, 0); text-anchor: start; font-family: &quot;Andale Mono&quot;, monospace; font-size: 16px;\"><tspan dy=\"3.671875\" style=\"-webkit-tap-highlight-color: rgba(0, 0, 0, 0);\">Hello Bob, how are you?</tspan></text><path fill=\"none\" stroke=\"#000000\" d=\"M44.3359375,96C44.3359375,96,245.65780602861196,96,280.16170048834965,96\" stroke-width=\"2\" marker-end=\"url(#raphael-marker-endblock55-obj21)\" stroke-dasharray=\"none\" style=\"-webkit-tap-highlight-color: rgba(0, 0, 0, 0);\"/><rect x=\"305.1640625\" y=\"116\" width=\"106.015625\" height=\"28\" rx=\"0\" ry=\"0\" fill=\"#ffffff\" stroke=\"#000000\" stroke-width=\"2\" style=\"-webkit-tap-highlight-color: rgba(0, 0, 0, 0);\"/><text x=\"310.15625\" y=\"130\" text-anchor=\"start\" font-family=\"Andale Mono, monospace\" font-size=\"16px\" stroke=\"none\" fill=\"#000000\" style=\"-webkit-tap-highlight-color: rgba(0, 0, 0, 0); text-anchor: start; font-family: &quot;Andale Mono&quot;, monospace; font-size: 16px;\"><tspan dy=\"3.671875\" style=\"-webkit-tap-highlight-color: rgba(0, 0, 0, 0);\">Bob thinks</tspan></text><text x=\"83.140625\" y=\"169\" text-anchor=\"start\" font-family=\"Andale Mono, monospace\" font-size=\"16px\" stroke=\"none\" fill=\"#000000\" style=\"-webkit-tap-highlight-color: rgba(0, 0, 0, 0); text-anchor: start; font-family: &quot;Andale Mono&quot;, monospace; font-size: 16px;\"><tspan dy=\"3.671875\" style=\"-webkit-tap-highlight-color: rgba(0, 0, 0, 0);\">I am good thanks!</tspan></text><path fill=\"none\" stroke=\"#000000\" d=\"M285.1640625,182C285.1640625,182,83.84219397138804,182,49.33829951165035,182\" stroke-width=\"2\" marker-end=\"url(#raphael-marker-endblock55-obj27)\" stroke-dasharray=\"6,2\" style=\"-webkit-tap-highlight-color: rgba(0, 0, 0, 0);\"/></svg>",
      "text/plain": [
       "<IPython.core.display.SVG object>"
      ]
     },
     "metadata": {},
     "output_type": "display_data"
    }
   ],
   "source": [
    "%%diagrams sequence\n",
    "\n",
    "Alice->Bob: Hello Bob, how are you?\n",
    "Note right of Bob: Bob thinks\n",
    "Bob-->Alice: I am good thanks!"
   ]
  }
 ],
 "metadata": {
  "kernelspec": {
   "display_name": "Python 3 (ipykernel)",
   "language": "python",
   "name": "python3"
  },
  "language_info": {
   "codemirror_mode": {
    "name": "ipython",
    "version": 3
   },
   "file_extension": ".py",
   "mimetype": "text/x-python",
   "name": "python",
   "nbconvert_exporter": "python",
   "pygments_lexer": "ipython3",
   "version": "3.9.2"
  },
  "toc": {
   "base_numbering": 1,
   "nav_menu": {},
   "number_sections": true,
   "sideBar": true,
   "skip_h1_title": false,
   "title_cell": "Table of Contents",
   "title_sidebar": "Contents",
   "toc_cell": false,
   "toc_position": {},
   "toc_section_display": true,
   "toc_window_display": false
  }
 },
 "nbformat": 4,
 "nbformat_minor": 5
}
